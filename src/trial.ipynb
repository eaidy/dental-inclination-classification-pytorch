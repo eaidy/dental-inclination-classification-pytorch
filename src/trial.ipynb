{
 "cells": [
  {
   "cell_type": "code",
   "execution_count": 9,
   "id": "b46f9107e7f82269",
   "metadata": {
    "ExecuteTime": {
     "end_time": "2024-03-01T22:44:28.857186Z",
     "start_time": "2024-03-01T22:44:28.850870Z"
    },
    "collapsed": false
   },
   "outputs": [],
   "source": [
    "import logging\n",
    "import numpy as np\n",
    "import os\n",
    "from pathlib import Path\n",
    "import sys\n",
    "import tempfile\n",
    "import torch\n",
    "\n",
    "from monai.apps import MedNISTDataset\n",
    "from monai.config import print_config\n",
    "from monai.data import Dataset, DataLoader\n",
    "from monai.engines import SupervisedTrainer\n",
    "from monai.handlers import StatsHandler\n",
    "from monai.inferers import SimpleInferer\n",
    "from monai.networks import eval_mode\n",
    "from monai.networks.nets import densenet121\n",
    "from monai.transforms import ResizeD, LoadImageD, EnsureChannelFirstD, ScaleIntensityD, Compose"
   ]
  },
  {
   "cell_type": "code",
   "execution_count": 10,
   "id": "a3ef963ff65d4e92",
   "metadata": {
    "ExecuteTime": {
     "end_time": "2024-03-01T22:44:31.935546Z",
     "start_time": "2024-03-01T22:44:31.932422Z"
    },
    "collapsed": false
   },
   "outputs": [],
   "source": [
    "#directory = '/Users/eaidy/Datasets/MONAI'\n",
    "root_dir = '/Users/eaidy/Datasets/deneme_set'\n",
    "test_dir = '/Users/eaidy/Datasets/deneme_set_test'"
   ]
  },
  {
   "cell_type": "code",
   "execution_count": 11,
   "id": "69bb4021456b8891",
   "metadata": {
    "ExecuteTime": {
     "end_time": "2024-03-01T22:44:33.214400Z",
     "start_time": "2024-03-01T22:44:33.206368Z"
    },
    "collapsed": false
   },
   "outputs": [],
   "source": [
    "transform = Compose(\n",
    "    [\n",
    "        LoadImageD(keys=\"image\", image_only=True),\n",
    "        EnsureChannelFirstD(keys=\"image\"),\n",
    "        ScaleIntensityD(keys=\"image\"),\n",
    "        ResizeD(spatial_size=(224, 224), keys=['image', 'label'])\n",
    "    ]\n",
    ")"
   ]
  },
  {
   "cell_type": "code",
   "execution_count": null,
   "id": "e119abec47b245d8",
   "metadata": {
    "ExecuteTime": {
     "end_time": "2024-03-01T22:46:21.469357Z",
     "start_time": "2024-03-01T22:46:21.412184Z"
    },
    "collapsed": false
   },
   "outputs": [],
   "source": [
    "dataset = Dataset(data=root_dir, transform=transform)\n",
    "data_loader = DataLoader(dataset, batch_size=4, shuffle=True)\n",
    "dataset.__getitem__(2)\n"
   ]
  },
  {
   "cell_type": "code",
   "execution_count": null,
   "id": "8bc7d5008aee86a8",
   "metadata": {
    "ExecuteTime": {
     "end_time": "2024-03-01T22:45:23.139723Z",
     "start_time": "2024-03-01T22:45:22.845936Z"
    },
    "collapsed": false
   },
   "outputs": [],
   "source": [
    "max_epochs = 5\n",
    "model = densenet121(spatial_dims=2, in_channels=1, out_channels=6).to(torch.device(\"mps\"))\n",
    "\n",
    "logging.basicConfig(stream=sys.stdout, level=logging.INFO)\n",
    "trainer = SupervisedTrainer(\n",
    "    device=torch.device(\"mps\"),\n",
    "    max_epochs=max_epochs,\n",
    "    train_data_loader=DataLoader(dataset, batch_size=512, shuffle=True, num_workers=4),\n",
    "    network=model,\n",
    "    optimizer=torch.optim.Adam(model.parameters(), lr=1e-5),\n",
    "    loss_function=torch.nn.CrossEntropyLoss(),\n",
    "    inferer=SimpleInferer(),\n",
    "    train_handlers=StatsHandler(),\n",
    ")"
   ]
  },
  {
   "cell_type": "code",
   "execution_count": null,
   "id": "1f9d18658a13818b",
   "metadata": {
    "collapsed": false
   },
   "outputs": [],
   "source": [
    "trainer.run()"
   ]
  },
  {
   "cell_type": "code",
   "execution_count": null,
   "id": "ae15a0d064c09755",
   "metadata": {
    "collapsed": false
   },
   "outputs": [],
   "source": [
    "dataset_dir = test_dir\n",
    "class_names = sorted(f\"{x.name}\" for x in dataset_dir.iterdir() if x.is_dir())\n",
    "testdata = CacheDataset(data=dataset_dir, transform=transform)\n",
    "data_loader = DataLoader(dataset=testdata, batch_size=1)\n",
    "\n",
    "max_items_to_print = 10\n",
    "with eval_mode(model):\n",
    "    for item in DataLoader(data_loader, batch_size=1, num_workers=0):\n",
    "        prob = np.array(model(item[\"image\"].to(\"mps\")).detach().to(\"cpu\"))[0]\n",
    "        pred = class_names[prob.argmax()]\n",
    "        gt = item[\"class_name\"][0]\n",
    "        print(f\"Class prediction is {pred}. Ground-truth: {gt}\")\n",
    "        max_items_to_print -= 1\n",
    "        if max_items_to_print == 0:\n",
    "            break"
   ]
  }
 ],
 "metadata": {
  "kernelspec": {
   "display_name": "Python 3",
   "language": "python",
   "name": "python3"
  },
  "language_info": {
   "codemirror_mode": {
    "name": "ipython",
    "version": 3
   },
   "file_extension": ".py",
   "mimetype": "text/x-python",
   "name": "python",
   "nbconvert_exporter": "python",
   "pygments_lexer": "ipython3",
   "version": "3.11.7"
  }
 },
 "nbformat": 4,
 "nbformat_minor": 5
}
